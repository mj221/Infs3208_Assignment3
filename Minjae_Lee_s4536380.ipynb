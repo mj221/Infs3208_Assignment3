{
 "cells": [
  {
   "cell_type": "code",
   "execution_count": 139,
   "metadata": {
    "scrolled": true
   },
   "outputs": [
    {
     "name": "stdout",
     "output_type": "stream",
     "text": [
      "(be,10461)\n",
      "(have,7832)\n",
      "(do,6388)\n",
      "(come,3575)\n",
      "(make,2884)\n",
      "(go,2451)\n",
      "(love,2379)\n",
      "(say,2332)\n",
      "(know,2233)\n",
      "(let,2116)\n"
     ]
    },
    {
     "data": {
      "text/plain": [
       "shakes: org.apache.spark.rdd.RDD[String] = shakespeare.txt MapPartitionsRDD[1326] at textFile at <console>:39\n",
       "verbs: Array[String] = Array(abash, abashed, abashed, abashes, abashing, abate, abated, abated, abates, abating, abide, abode, abode, abides, abiding, absorb, absorbed, absorbed, absorbs, absorbing, accept, accepted, accepted, accepts, accepting, accompany, accompanied, accompanied, accompanies, accompanying, ache, ached, ached, aches, aching, achieve, achieved, achieved, achieves, achieving, acquire, acquired, acquired, acquires, acquiring, act, acted, acted, acts, acting, add, added, added, adds, adding, address, addressed, addressed, addresses, addressing, adjust, adjusted, adjusted, adjusts, adjusting, admire, admired, admired, admires, admiring, admit, admitted, admitted, a...\n"
      ]
     },
     "execution_count": 139,
     "metadata": {},
     "output_type": "execute_result"
    }
   ],
   "source": [
    "val shakes = sc.textFile(\"shakespeare.txt\")\n",
    "val verbs = sc.textFile(\"all_verbs.txt\").collect()\n",
    "val verb_dict = sc.textFile(\"verb_dict.txt\")\n",
    "\n",
    "val remove_empty_lines = shakes.filter(row => !row.isEmpty)\n",
    "val remove_punctuation = remove_empty_lines.map(_.replaceAll(\"[,.!?:;]\", \"\").trim)\n",
    "val change_capitalisation = remove_punctuation.map(x=>x.toLowerCase)\n",
    "\n",
    "val map = change_capitalisation.flatMap(line=> line.split(\" \"))\n",
    "val match_verbs = map.filter(x=> verbs.contains(x))\n",
    "\n",
    "val count_verbs = match_verbs.map(x=>(x,1)).reduceByKey((a,b)=>a+b)\n",
    "\n",
    "val verbslist = verb_dict.map(s=>s.split(\",\").map(_.trim)).collect\n",
    "\n",
    "val verbMap = verbslist.flatMap(e => {\n",
    "    e.map(i=> i -> e(0))\n",
    "}).toMap\n",
    "\n",
    "\n",
    "val bdVerbMap = sc.broadcast(verbMap)\n",
    "val unifiedCount = count_verbs.map(t=>(bdVerbMap.value.getOrElse(t._1, t._1), t._2)).reduceByKey((x,y)=>x+y)\n",
    "\n",
    "unifiedCount.map(x=>x._2->x._1).sortByKey(false).map(x=>x._2->x._1).take(10).foreach(println)\n",
    "\n"
   ]
  },
  {
   "cell_type": "code",
   "execution_count": null,
   "metadata": {},
   "outputs": [],
   "source": []
  }
 ],
 "metadata": {
  "kernelspec": {
   "display_name": "spylon-kernel",
   "language": "scala",
   "name": "spylon-kernel"
  },
  "language_info": {
   "codemirror_mode": "text/x-scala",
   "file_extension": ".scala",
   "help_links": [
    {
     "text": "MetaKernel Magics",
     "url": "https://metakernel.readthedocs.io/en/latest/source/README.html"
    }
   ],
   "mimetype": "text/x-scala",
   "name": "scala",
   "pygments_lexer": "scala",
   "version": "0.4.1"
  }
 },
 "nbformat": 4,
 "nbformat_minor": 4
}
